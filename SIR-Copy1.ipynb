{
 "cells": [
  {
   "cell_type": "code",
   "execution_count": 1,
   "metadata": {},
   "outputs": [
    {
     "name": "stdout",
     "output_type": "stream",
     "text": [
      "7899996.067712974\n"
     ]
    }
   ],
   "source": [
    " \n",
    "def dSdt(t, S, I):\n",
    "    return (-beta * S* I/ N)\n",
    "\n",
    "beta= .5\n",
    "N= 7900010\n",
    "S0= 7900000\n",
    "I0= 10\n",
    "S=[]\n",
    " \n",
    "h=1\n",
    "t0=0\n",
    "  \n",
    "# Finds value of y (sus  ) for a given x (time) using step size h \n",
    "# and initial value y0 at x0. \n",
    "def rungeKutta(t0, S0 ,I0 , t, h): \n",
    "    # Count number of iterations using step size or \n",
    "    # step height h \n",
    "    n = (int)((t- t0)/h)  \n",
    "    # Iterate for number of iterations \n",
    "    y0 = S0, I0 \n",
    "    for i in range(1, n + 1): \n",
    "        #\"Apply Runge Kutta Formulas to find next value of y\"\n",
    "        Sk1 = h * dSdt(t0, S0,I0) \n",
    "        Sk2 = h *  dSdt( t0 +  0.5 *h, S0 + 0.5*h *  Sk1, I0 + 0.5*h * Sk1) \n",
    "        Sk3= h * dSdt (t0 + .5 *h, S0 + 0.5 *h *  Sk2, I0 + 0.5*h * Sk2)\n",
    "        Sk4 = h * dSdt(t0 + h, S0 +h  * Sk3, I0 +h * Sk3)  \n",
    "  \n",
    "        # Update next value of y \n",
    "        S  = S0 + (1.0 / 6.0)*(Sk1 + 2 * Sk2 + 2 * Sk3 + Sk4) \n",
    "  \n",
    "        # Update next value of x \n",
    "        t0 = t0 + h \n",
    "    return S \n",
    "  \n",
    "# Driver method \n",
    "x0 = 0\n",
    " \n",
    "t = 150\n",
    "h = 1\n",
    "print (   rungeKutta(t0, S0, I0, t, h) )"
   ]
  },
  {
   "cell_type": "code",
   "execution_count": 6,
   "metadata": {},
   "outputs": [
    {
     "name": "stdout",
     "output_type": "stream",
     "text": [
      "1.132737040196058e-37\n"
     ]
    }
   ],
   "source": [
    "def dRdt(t,  I):\n",
    "    return(gamma * I)    \n",
    "\n",
    "\n",
    "S0  = 9999\n",
    " \n",
    "I0  = 1\n",
    "R0 = 2\n",
    " \n",
    "N = S0 + I0 + R0\n",
    "beta = 1 / 2\n",
    "gamma = (-1/7)\n",
    "n = 10002\n",
    "t0= 0 \n",
    " \n",
    "t = 300\n",
    "h = 10\n",
    "\n",
    "    \n",
    "def rungeKutta(t0 , R   , t, h): \n",
    "    # Count number of iterations using step size or \n",
    "    # step height h \n",
    "    n = (int)((t - t0)/h)  \n",
    "    # Iterate for number of iterations \n",
    "    R = R0 \n",
    "    for i in range(1, n + 1): \n",
    "        \"Apply Runge Kutta Formulas to find next value of y\"\n",
    "        k1 = h * dRdt(t0, R) \n",
    "        k2 = h * dRdt(t0 + 0.5 * h, R + 0.5 * k1) \n",
    "        k3 = h * dRdt(t0 + 0.5 * h, R + 0.5 * k2)   \n",
    "        k4 = h * dRdt(t0 + 0.5 * h, R + 0.5 * k2) \n",
    "  \n",
    "        # Update next value of y \n",
    "        R = R + (1.0 / 6.0)*(k1 + 2 * k2 + 2 * k3 + k4) \n",
    "  \n",
    "        # Update next value of x \n",
    "        t0 = t0+ h \n",
    "    return R\n",
    "  \n",
    " \n",
    "print ( rungeKutta(t0, R, t, h))"
   ]
  },
  {
   "cell_type": "code",
   "execution_count": null,
   "metadata": {},
   "outputs": [],
   "source": [
    " "
   ]
  },
  {
   "cell_type": "code",
   "execution_count": null,
   "metadata": {},
   "outputs": [],
   "source": []
  }
 ],
 "metadata": {
  "kernelspec": {
   "display_name": "Python 3",
   "language": "python",
   "name": "python3"
  },
  "language_info": {
   "codemirror_mode": {
    "name": "ipython",
    "version": 3
   },
   "file_extension": ".py",
   "mimetype": "text/x-python",
   "name": "python",
   "nbconvert_exporter": "python",
   "pygments_lexer": "ipython3",
   "version": "3.7.3"
  }
 },
 "nbformat": 4,
 "nbformat_minor": 2
}
