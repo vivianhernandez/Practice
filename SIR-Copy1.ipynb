{
 "cells": [
  {
   "cell_type": "code",
   "execution_count": 43,
   "metadata": {},
   "outputs": [
    {
     "name": "stdout",
     "output_type": "stream",
     "text": [
      "1782.5194810556964\n"
     ]
    }
   ],
   "source": [
    " \n",
    "def dRdt(t,  I):\n",
    "    return(gamma * I)    \n",
    " \n",
    "def dIdt(t, S, I, N):\n",
    "    return( beta * S* I/ N - gamma *I)\n",
    "\n",
    "def dSdt(t, S, I, N):\n",
    "    return (-beta * S* I/ N)\n",
    "    \n",
    "def rungeKuttaR (t0 , R0 , t, h): \n",
    "    # Count number of iterations using step size or \n",
    "    # step height h \n",
    "    step = (int)((t - t0)/h)  \n",
    "    # Iterate for number of iterations \n",
    "     \n",
    "    r=  R0\n",
    "    for i in range(1, h + 1): \n",
    "        \n",
    "        k1 = h * dRdt(t0, r) \n",
    "        k2 = h * dRdt(t0 + 0.5 * h, r + 0.5 * k1) \n",
    "        k3 = h * dRdt(t0 + 0.5 * h, r + 0.5 * k2)   \n",
    "        k4 = h * dRdt(t0 + 0.5 * h, r + 0.5 * k2) \n",
    "  \n",
    "        # Update next value of y \n",
    "        r = r + (1.0 / 6.0)*(k1 + 2 * k2 + 2 * k3 + k4) \n",
    "  \n",
    "        # Update next value of x \n",
    "        t0 = t0+ step \n",
    "    return r\n",
    " \n",
    "def rungeKuttaS(t0, S0 ,I0 , t, h): \n",
    "    # Count number of iterations using step size or \n",
    "    # step height h \n",
    "    step = (int)((t- t0)/h)  \n",
    "    # Iterate for number of iterations \n",
    "    s = S0 \n",
    "    i= I0\n",
    "    for i in range(1, h + 1): \n",
    "        #\"Apply Runge Kutta Formulas to find next value of y\"\n",
    "        Sk1 = h * dSdt(t0, s ,i, N) \n",
    "        Sk2 = h *  dSdt( t0 +  0.5 *h, s + 0.5*h *  Sk1, i + 0.5*h * Sk1, N) \n",
    "        Sk3= h * dSdt (t0 + .5 *h, s + 0.5 *h *  Sk2, i + 0.5*h * Sk2,  N)\n",
    "        Sk4 = h * dSdt(t0 + h, s +h  * Sk3, i +h * Sk3, N)  \n",
    "  \n",
    "        # Update next value of y \n",
    "        s  = s + (1.0 / 6.0)*(Sk1 + 2 * Sk2 + 2 * Sk3 + Sk4) \n",
    "  \n",
    "        # Update next value of x \n",
    "        t0 = t0 + step \n",
    "    return s \n",
    "def rungeKuttaI(t0, S0, I0  , t, h): \n",
    "    # Count number of iterations using step size or \n",
    "    # step height h \n",
    "    step = (int)((t- t0)/h)  \n",
    "    # Iterate for number of iterations \n",
    "    s = S0 \n",
    "    i= I0\n",
    "    for i in range(1, h + 1): \n",
    "        #\"Apply Runge Kutta Formulas to find next value of y\"\n",
    "        Sk1 = h * dIdt(t0, s ,i, N) \n",
    "        Sk2 = h *  dIdt( t0 +  0.5 *h, s + 0.5*h *  Sk1, i + 0.5*h * Sk1, N) \n",
    "        Sk3= h * dIdt (t0 + .5 *h, s + 0.5 *h *  Sk2, i + 0.5*h * Sk2, N)\n",
    "        Sk4 = h * dIdt(t0 + h, s +h  * Sk3, i +h * Sk3, N)  \n",
    "  \n",
    "        # Update next value of y \n",
    "        i  = i + (1.0 / 6.0)*(Sk1 + 2 * Sk2 + 2 * Sk3 + Sk4) \n",
    "  \n",
    "        # Update next value of x \n",
    "        t0 = t0 + step \n",
    "    return i \n",
    " \n",
    "S0  = 9999\n",
    " \n",
    "I0  = 1\n",
    "R0 = 2\n",
    " \n",
    "N = S0 + I0 + R0\n",
    "beta = 1 / 2\n",
    "gamma = (1/14)\n",
    "N = 10002\n",
    "t0= 0 \n",
    " \n",
    "t = 300\n",
    "h = 10\n",
    "\n",
    "    \n",
    " \n",
    "print ( rungeKuttaR(t0, R0, t, h))"
   ]
  },
  {
   "cell_type": "code",
   "execution_count": 44,
   "metadata": {},
   "outputs": [
    {
     "name": "stdout",
     "output_type": "stream",
     "text": [
      "1782.5194810556964\n"
     ]
    }
   ],
   "source": [
    " print ( rungeKuttaR(t0, R0, t, h))"
   ]
  },
  {
   "cell_type": "code",
   "execution_count": 45,
   "metadata": {},
   "outputs": [
    {
     "name": "stdout",
     "output_type": "stream",
     "text": [
      "nan\n"
     ]
    }
   ],
   "source": [
    "print ( rungeKuttaS(t0, S0, I0, t, h)) "
   ]
  },
  {
   "cell_type": "code",
   "execution_count": 46,
   "metadata": {},
   "outputs": [
    {
     "name": "stdout",
     "output_type": "stream",
     "text": [
      "9473277.574742854\n"
     ]
    }
   ],
   "source": [
    "print ( rungeKuttaI(t0, S0, I0, t, h)) "
   ]
  },
  {
   "cell_type": "code",
   "execution_count": 104,
   "metadata": {},
   "outputs": [
    {
     "name": "stdout",
     "output_type": "stream",
     "text": [
      "54.48335762876579\n"
     ]
    }
   ],
   "source": [
    " \n",
    "def dRdt(t,  I, N):\n",
    "    return(gamma * I)    \n",
    " \n",
    "def dIdt(t,  S, I, N):\n",
    "    return( beta * S* I/ N - gamma *I)\n",
    "\n",
    "def dSdt(t, S , I, N):\n",
    "    return (-beta * S* I/ N)\n",
    "    \n",
    "def rungeKuttaR (t0 , R0 , t, h): \n",
    "    # Count number of iterations using step size or \n",
    "    # step height h \n",
    "    step = (int)((t - t0)/h)  \n",
    "    # Iterate for number of iterations \n",
    "     \n",
    "    r= R0\n",
    "    I= I0\n",
    "    for i in range(1, h + 1): \n",
    "        \n",
    "        k1 = h * dRdt(t0, i, N) \n",
    "        k2 = h * dRdt(t0 + 0.5 * h, i + 0.5 * k1, N) \n",
    "        k3 = h * dRdt(t0 + 0.5 * h, i + 0.5 * k2, N)   \n",
    "        k4 = h * dRdt(t0 + 0.5 * h, i + 0.5 * k2, N) \n",
    "  \n",
    "        # Update next value of y \n",
    "        r = r + (1.0 / 6.0)*(k1 + 2 * k2 + 2 * k3 + k4) \n",
    "  \n",
    "        # Update next value of x \n",
    "        t0 = t0+ step \n",
    "    return r\n",
    " \n",
    "def rungeKuttaS(t0, S0  , t, h): \n",
    "    # Count number of iterations using step size or \n",
    "    # step height h \n",
    "    step = (int)((t- t0)/h)  \n",
    "    # Iterate for number of iterations \n",
    "    s = S0 \n",
    "    I= I0\n",
    "    for i in range(1, h + 1): \n",
    "        #\"Apply Runge Kutta Formulas to find next value of y\"\n",
    "        k1 = h * dSdt(t0, s, I,  N) \n",
    "        k2 = h * dSdt(t0 + 0.5 * h, s + 0.5 * k1, I,  N) \n",
    "        k3 = h * dSdt(t0 + 0.5 * h, s + 0.5 * k2, I,  N)   \n",
    "        k4 = h * dSdt(t0 + 0.5 * h, s + 0.5 * k2, I,  N)  \n",
    "  \n",
    "        # Update next value of y \n",
    "        s  = s + (1.0 / 6.0)*( k1 + 2 * k2 + 2 * k3 + k4) \n",
    "  \n",
    "        # Update next value of x \n",
    "        t0 = t0 + step \n",
    "    return s \n",
    "\n",
    "def rungeKuttaI(t0, I0  , t, h): \n",
    "    # Count number of iterations using step size or \n",
    "    # step height h \n",
    "    step = (int)((t- t0)/h)  \n",
    "    # Iterate for number of iterations \n",
    "    S = S0 \n",
    "    I= I0\n",
    "    for i in range(1, h + 1): \n",
    "        #\"Apply Runge Kutta Formulas to find next value of y\"\n",
    "        k1 = h * dIdt(t0, S, I, N) \n",
    "        k2 = h * dIdt(t0 + 0.5 * h, S, I + 0.5 * k1, N) \n",
    "        k3 = h * dIdt(t0 + 0.5 * h, S, I + 0.5 * k2, N)   \n",
    "        k4 = h * dIdt(t0 + 0.5 * h, S, I + 0.5 * k2, N) \n",
    "  \n",
    "        # Update next value of y \n",
    "        I  = I + (1.0 / 6.0)*(k1 + 2 * k2 + 2 * k3 + k4) \n",
    "  \n",
    "        # Update next value of x \n",
    "        t0 = t0 + step \n",
    "    return I \n",
    " \n",
    "S0  = 9999\n",
    " \n",
    "I0  = 1\n",
    "R0 = 2\n",
    " \n",
    "N = S0 + I0 + R0\n",
    "beta = 1 / 2\n",
    "gamma = (1/ 14)\n",
    "n = 10002\n",
    "t0= 0 \n",
    " \n",
    "t = 100\n",
    "h = 10\n",
    "\n",
    "    \n",
    " \n",
    "print ( rungeKuttaR(t0, I0, t, h))"
   ]
  },
  {
   "cell_type": "code",
   "execution_count": 105,
   "metadata": {},
   "outputs": [
    {
     "name": "stdout",
     "output_type": "stream",
     "text": [
      "9949.137654166421\n"
     ]
    }
   ],
   "source": [
    "print ( rungeKuttaS(t0, S0,   t, h))"
   ]
  },
  {
   "cell_type": "code",
   "execution_count": 106,
   "metadata": {},
   "outputs": [
    {
     "name": "stdout",
     "output_type": "stream",
     "text": [
      "37321587641541.84\n"
     ]
    }
   ],
   "source": [
    "print ( rungeKuttaI(t0, I0,   t, h))"
   ]
  },
  {
   "cell_type": "code",
   "execution_count": 109,
   "metadata": {},
   "outputs": [
    {
     "name": "stdout",
     "output_type": "stream",
     "text": [
      "gamma=0.0274938 beta=0.0807609 R0=2.93743\n"
     ]
    },
    {
     "data": {
      "image/png": "[encoded data removed]",
      "text/plain": [
       "<Figure size 432x288 with 1 Axes>"
      ]
     },
     "metadata": {
      "needs_background": "light"
     },
     "output_type": "display_data"
    },
    {
     "data": {
      "image/png": "[encoded data removed]",
      "text/plain": [
       "<Figure size 432x288 with 1 Axes>"
      ]
     },
     "metadata": {
      "needs_background": "light"
     },
     "output_type": "display_data"
    },
    {
     "data": {
      "image/png": "[encoded data removed]",
      "text/plain": [
       "<Figure size 432x288 with 1 Axes>"
      ]
     },
     "metadata": {
      "needs_background": "light"
     },
     "output_type": "display_data"
    }
   ],
   "source": [
    "import numpy as np\n",
    "import pandas as pd\n",
    "import matplotlib.pyplot as plt\n",
    "import matplotlib\n",
    "\n",
    "# Italy total virus cases the first point is on Feb 24. Last point is for March 29.\n",
    "total=[229, 322, 400, 650, 888, 1128, 1694, 2036, 2502, 3089, 3858, 4636, 5883, 7375, 9172, 10149, 12462, 15113, 17660, 21157, 24747, 27980, 31506, 35713, 41035, 47021, 53578, 59138, 63927, 69176, 74386, 80539, 86498, 92472, 97689];\n",
    "death=[7, 10, 12, 17, 21, 29, 34, 52, 79, 107, 148, 197, 233, 366, 463, 631, 827, 1016, 1266, 1441, 1809, 2158, 2503, 2978, 3405, 4032, 4825, 5476, 6077, 6820, 7503, 8165, 9134, 10023, 10779]\n",
    "recovered=[1, 1, 3, 45, 46, 50, 83, 149, 160, 276, 414, 523, 589, 622, 724, 1004, 1045, 1258, 1439, 1966, 2335, 2749, 2941, 4025, 4440, 5129, 6072, 7024, 7432, 8326, 9362, 10361, 10950, 12384, 13030]\n",
    "\n",
    "# =============================================================================\n",
    "# url = \"https://raw.githubusercontent.com/pcm-dpc/COVID-19/master/dati-andamento-nazionale/dpc-covid19-ita-andamento-nazionale.csv\"\n",
    "# all = pd.read_csv(url)\n",
    "#\n",
    "# total=list(all['totale_casi'])\n",
    "# death=list(all['deceduti'])\n",
    "# recovered=list(all['dimessi_guariti'])\n",
    "#\n",
    "# =============================================================================\n",
    "\n",
    "\n",
    "R=[x + y for x, y in zip(death, recovered)] # R here also includes the dead\n",
    "I=[x - y for x, y in zip(total, R)]\n",
    "\n",
    "plt.figure();\n",
    "plt.plot(total, 'o-k');\n",
    "plt.plot(death, 'o-r');\n",
    "plt.plot(recovered, 'o-g');\n",
    "plt.legend(['total', 'dead', 'recovered'])\n",
    "plt.grid(1);\n",
    "plt.yscale('log')\n",
    "plt.xlabel('Date starting from Feb 24, 2020')\n",
    "plt.figure();\n",
    "\n",
    "en=len(total); st=en-3;\n",
    "#st=0; en=st+10;\n",
    "y=np.log(I[st:en])\n",
    "\n",
    "t=np.array(range(st, en))\n",
    "\n",
    "m, b = np.polyfit(t, y, 1)\n",
    "plt.plot(t, (y), 'o')\n",
    "plt.plot(t, (m*t + b))\n",
    "plt.title('m estimate: %s' % m)\n",
    "plt.grid()\n",
    "\n",
    "#%%\n",
    "plt.figure()\n",
    "\n",
    "\n",
    "g=[]\n",
    "for i in range(st, en-1):\n",
    "    oo=(R[i+1]-R[i])/I[i]\n",
    "    g.append(oo)\n",
    "\n",
    "plt.plot(g)\n",
    "plt.grid(1)\n",
    "gamma= np.mean(g);\n",
    "plt.title('gamma estimate: %s' % gamma)\n",
    "#%%\n",
    "gamma\n",
    "beta=m+gamma\n",
    "print('gamma=%g beta=%g R0=%g' %(gamma, beta, beta/gamma))\n",
    "\n",
    "\n",
    "#%%\n",
    "\n",
    "\n",
    "#m=0.3416\n",
    "def SIR(S0,I0,R0,t0, t1, beta, gamma):\n",
    "    N=S0+R0+I0;\n",
    "    S=S0; R=R0; I=I0;\n",
    "    SS=[S0];RR=[R0]; II=[I0];\n",
    "    tt=[t0];\n",
    "    dt=0.1;\n",
    "    t=t0\n",
    "    while t <= t1:\n",
    "        dS=-beta*S*I/N\n",
    "        dI=beta*S*I/N-gamma*I\n",
    "        dR=gamma*I\n",
    "        S=S+dt*dS;\n",
    "        I=I+dt*dI;\n",
    "        R=R+dt*dR;\n",
    "        SS.append(S); II.append(I); RR.append(R)\n",
    "        t=t+dt;\n",
    "        tt.append(t)\n",
    "    return(SS,II,RR,tt)\n",
    "\n",
    "SIRT=SIR(6e7,  I[en-1], R[en-1], 0, 500, beta, gamma)\n",
    "tt=SIRT[3]; SS=SIRT[0]; II=SIRT[1]; RR=SIRT[2];\n",
    "#plt.plot(SIRT[3], (SIRT[0]), '--k')\n",
    "plt.plot(tt, SS, '--r')\n",
    "plt.plot(tt, II, '--g')\n",
    "plt.plot(tt, RR, '--b')\n",
    "#plt.plot(SIRT[3], (SIRT[2]), '--g')\n",
    "#plt.plot(range(st,en), I[st:en], 'or')\n",
    "plt.grid(1)\n",
    "plt.legend(['S','I','R'])\n",
    "oo=II.index(max(II));\n",
    "N=(II[0]+RR[0]+SS[0]);\n",
    "tmax=tt[oo]; Imax=II[oo];\n",
    "inftot = RR[-1]/N\n",
    "plt.title('tmax=%g, Imax=%2.3g%% Total infected: %2.4g%%'  % (tmax, Imax/N*100, inftot*100))\n",
    "plt.show( )"
   ]
  },
  {
   "cell_type": "code",
   "execution_count": 108,
   "metadata": {},
   "outputs": [],
   "source": [
    "plt.show( )"
   ]
  },
  {
   "cell_type": "code",
   "execution_count": null,
   "metadata": {},
   "outputs": [],
   "source": []
  }
 ],
 "metadata": {
  "kernelspec": {
   "display_name": "Python 3",
   "language": "python",
   "name": "python3"
  },
  "language_info": {
   "codemirror_mode": {
    "name": "ipython",
    "version": 3
   },
   "file_extension": ".py",
   "mimetype": "text/x-python",
   "name": "python",
   "nbconvert_exporter": "python",
   "pygments_lexer": "ipython3",
   "version": "3.7.3"
  }
 },
 "nbformat": 4,
 "nbformat_minor": 2
}
